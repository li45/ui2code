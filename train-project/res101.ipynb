{
 "cells": [
  {
   "cell_type": "code",
   "execution_count": 2,
   "id": "d6f12cc8-259a-4c1b-9a80-d378ca944697",
   "metadata": {
    "ExecutionIndicator": {
     "show": true
    },
    "execution": {
     "iopub.execute_input": "2023-11-25T19:08:29.575067Z",
     "iopub.status.busy": "2023-11-25T19:08:29.574262Z",
     "iopub.status.idle": "2023-11-25T19:08:37.830826Z",
     "shell.execute_reply": "2023-11-25T19:08:37.829830Z",
     "shell.execute_reply.started": "2023-11-25T19:08:29.575038Z"
    },
    "tags": []
   },
   "outputs": [
    {
     "name": "stderr",
     "output_type": "stream",
     "text": [
      "2023-11-26 03:08:30.916788: I tensorflow/core/platform/cpu_feature_guard.cc:182] This TensorFlow binary is optimized to use available CPU instructions in performance-critical operations.\n",
      "To enable the following instructions: AVX2 FMA, in other operations, rebuild TensorFlow with the appropriate compiler flags.\n",
      "2023-11-26 03:08:32.886353: W tensorflow/compiler/tf2tensorrt/utils/py_utils.cc:38] TF-TRT Warning: Could not find TensorRT\n"
     ]
    }
   ],
   "source": [
    "from CNN_net import SimpleVGGNet\n",
    "from sklearn.preprocessing import LabelBinarizer\n",
    "from sklearn.model_selection import train_test_split\n",
    "from sklearn.metrics import classification_report\n",
    "from keras.optimizers.legacy import SGD\n",
    "from keras.preprocessing.image import ImageDataGenerator\n",
    "import utils_paths\n",
    "import matplotlib.pyplot as plt\n",
    "import cv2\n",
    "import numpy as np\n",
    "import argparse\n",
    "import random\n",
    "import pickle\n",
    "from tensorflow.keras.applications.resnet import ResNet101\n",
    "from tensorflow.keras.applications.resnet import ResNet152\n",
    "import os\n",
    "from keras.layers import Dense\n",
    "from keras.models import Model"
   ]
  },
  {
   "cell_type": "code",
   "execution_count": 3,
   "id": "9c40f51c-568a-4c69-a07e-8dcb2e6a8bc8",
   "metadata": {
    "ExecutionIndicator": {
     "show": true
    },
    "execution": {
     "iopub.execute_input": "2023-11-25T19:08:44.703366Z",
     "iopub.status.busy": "2023-11-25T19:08:44.702370Z",
     "iopub.status.idle": "2023-11-25T19:08:52.398794Z",
     "shell.execute_reply": "2023-11-25T19:08:52.397677Z",
     "shell.execute_reply.started": "2023-11-25T19:08:44.703335Z"
    },
    "tags": []
   },
   "outputs": [
    {
     "name": "stderr",
     "output_type": "stream",
     "text": [
      "2023-11-26 03:08:45.013357: I tensorflow/compiler/xla/stream_executor/cuda/cuda_gpu_executor.cc:995] successful NUMA node read from SysFS had negative value (-1), but there must be at least one NUMA node, so returning NUMA node zero. See more at https://github.com/torvalds/linux/blob/v6.0/Documentation/ABI/testing/sysfs-bus-pci#L344-L355\n",
      "2023-11-26 03:08:45.415650: I tensorflow/compiler/xla/stream_executor/cuda/cuda_gpu_executor.cc:995] successful NUMA node read from SysFS had negative value (-1), but there must be at least one NUMA node, so returning NUMA node zero. See more at https://github.com/torvalds/linux/blob/v6.0/Documentation/ABI/testing/sysfs-bus-pci#L344-L355\n",
      "2023-11-26 03:08:45.416481: I tensorflow/compiler/xla/stream_executor/cuda/cuda_gpu_executor.cc:995] successful NUMA node read from SysFS had negative value (-1), but there must be at least one NUMA node, so returning NUMA node zero. See more at https://github.com/torvalds/linux/blob/v6.0/Documentation/ABI/testing/sysfs-bus-pci#L344-L355\n",
      "2023-11-26 03:08:45.418226: I tensorflow/compiler/xla/stream_executor/cuda/cuda_gpu_executor.cc:995] successful NUMA node read from SysFS had negative value (-1), but there must be at least one NUMA node, so returning NUMA node zero. See more at https://github.com/torvalds/linux/blob/v6.0/Documentation/ABI/testing/sysfs-bus-pci#L344-L355\n",
      "2023-11-26 03:08:45.419043: I tensorflow/compiler/xla/stream_executor/cuda/cuda_gpu_executor.cc:995] successful NUMA node read from SysFS had negative value (-1), but there must be at least one NUMA node, so returning NUMA node zero. See more at https://github.com/torvalds/linux/blob/v6.0/Documentation/ABI/testing/sysfs-bus-pci#L344-L355\n",
      "2023-11-26 03:08:45.419788: I tensorflow/compiler/xla/stream_executor/cuda/cuda_gpu_executor.cc:995] successful NUMA node read from SysFS had negative value (-1), but there must be at least one NUMA node, so returning NUMA node zero. See more at https://github.com/torvalds/linux/blob/v6.0/Documentation/ABI/testing/sysfs-bus-pci#L344-L355\n",
      "2023-11-26 03:08:47.262965: I tensorflow/compiler/xla/stream_executor/cuda/cuda_gpu_executor.cc:995] successful NUMA node read from SysFS had negative value (-1), but there must be at least one NUMA node, so returning NUMA node zero. See more at https://github.com/torvalds/linux/blob/v6.0/Documentation/ABI/testing/sysfs-bus-pci#L344-L355\n",
      "2023-11-26 03:08:47.263783: I tensorflow/compiler/xla/stream_executor/cuda/cuda_gpu_executor.cc:995] successful NUMA node read from SysFS had negative value (-1), but there must be at least one NUMA node, so returning NUMA node zero. See more at https://github.com/torvalds/linux/blob/v6.0/Documentation/ABI/testing/sysfs-bus-pci#L344-L355\n",
      "2023-11-26 03:08:47.264534: I tensorflow/compiler/xla/stream_executor/cuda/cuda_gpu_executor.cc:995] successful NUMA node read from SysFS had negative value (-1), but there must be at least one NUMA node, so returning NUMA node zero. See more at https://github.com/torvalds/linux/blob/v6.0/Documentation/ABI/testing/sysfs-bus-pci#L344-L355\n",
      "2023-11-26 03:08:47.267336: I tensorflow/core/common_runtime/gpu/gpu_device.cc:1639] Created device /job:localhost/replica:0/task:0/device:GPU:0 with 15388 MB memory:  -> device: 0, name: Tesla P100-PCIE-16GB, pci bus id: 0000:00:08.0, compute capability: 6.0\n"
     ]
    }
   ],
   "source": [
    "image_size = 255\n",
    "base_model = ResNet101(\n",
    "    include_top=False,\n",
    "    weights='imagenet',\n",
    "    input_tensor=None,\n",
    "    input_shape=(image_size, image_size,3),\n",
    "    pooling=\"max\"\n",
    ")\n",
    "\n",
    "x = base_model.output\n",
    "x = Dense(4, activation='softmax')(x)\n",
    "model = Model(inputs=base_model.input, outputs=x)\n",
    "# for layer in base_model.layers:\n",
    "#     layer.trainable = False"
   ]
  },
  {
   "cell_type": "code",
   "execution_count": 4,
   "id": "65e5c0a9-3b92-419d-8ea2-2d8246c05f3f",
   "metadata": {
    "ExecutionIndicator": {
     "show": true
    },
    "execution": {
     "iopub.execute_input": "2023-11-25T19:08:52.401711Z",
     "iopub.status.busy": "2023-11-25T19:08:52.400954Z",
     "iopub.status.idle": "2023-11-25T19:09:05.792491Z",
     "shell.execute_reply": "2023-11-25T19:09:05.791355Z",
     "shell.execute_reply.started": "2023-11-25T19:08:52.401672Z"
    },
    "tags": []
   },
   "outputs": [
    {
     "name": "stdout",
     "output_type": "stream",
     "text": [
      "------开始读取数据------\n",
      "['button' 'keyboard' 'searchbar' 'switch']\n"
     ]
    }
   ],
   "source": [
    "\n",
    "# 读取数据和标签\n",
    "print(\"------开始读取数据------\")\n",
    "data = []\n",
    "labels = []\n",
    "\n",
    "# 拿到图像数据路径，方便后续读取\n",
    "imagePaths = sorted(list(utils_paths.list_images('./dataset')))\n",
    "random.seed(42)\n",
    "random.shuffle(imagePaths)\n",
    "\n",
    "image_size = 255\n",
    "# 遍历读取数据\n",
    "for imagePath in imagePaths:\n",
    "    # 读取图像数据\n",
    "    image = cv2.imread(imagePath)\n",
    "    image = cv2.resize(image, (image_size, image_size))\n",
    "    data.append(image)\n",
    "    # 读取标签\n",
    "    label = imagePath.split(os.path.sep)[-2]\n",
    "    labels.append(label)\n",
    "\n",
    "data = np.array(data, dtype=\"float\") / 255.0\n",
    "labels = np.array(labels)\n",
    "\n",
    "# 数据集切分\n",
    "(trainX, testX, trainY, testY) = train_test_split(data,labels, test_size=0.25, random_state=42)\n",
    "\n",
    "# 转换标签为one-hot encoding格式\n",
    "lb = LabelBinarizer()\n",
    "trainY = lb.fit_transform(trainY)\n",
    "testY = lb.transform(testY)\n",
    "print(lb.classes_)\n",
    "\n",
    "# 数据增强处理\n",
    "aug = ImageDataGenerator(\n",
    "    rotation_range=30, \n",
    "    width_shift_range=0.1,\n",
    "    height_shift_range=0.1, \n",
    "    shear_range=0.2, \n",
    "    zoom_range=0.2,\n",
    "    horizontal_flip=True, \n",
    "    fill_mode=\"nearest\")"
   ]
  },
  {
   "cell_type": "code",
   "execution_count": 18,
   "id": "eafbc950-18b0-40b3-bc14-4913eaaa67b3",
   "metadata": {
    "ExecutionIndicator": {
     "show": true
    },
    "execution": {
     "iopub.execute_input": "2023-11-25T19:36:26.117752Z",
     "iopub.status.busy": "2023-11-25T19:36:26.117013Z",
     "iopub.status.idle": "2023-11-25T19:45:47.520312Z",
     "shell.execute_reply": "2023-11-25T19:45:47.519369Z",
     "shell.execute_reply.started": "2023-11-25T19:36:26.117724Z"
    },
    "tags": []
   },
   "outputs": [
    {
     "name": "stdout",
     "output_type": "stream",
     "text": [
      "------开始训练网络------\n",
      "Epoch 1/15\n",
      "76/76 [==============================] - 50s 522ms/step - loss: 0.4352 - accuracy: 0.8359 - val_loss: 0.3718 - val_accuracy: 0.8913\n",
      "Epoch 2/15\n",
      "76/76 [==============================] - 36s 467ms/step - loss: 0.3797 - accuracy: 0.8540 - val_loss: 0.3587 - val_accuracy: 0.8828\n",
      "Epoch 3/15\n",
      "76/76 [==============================] - 36s 471ms/step - loss: 0.3839 - accuracy: 0.8528 - val_loss: 0.4226 - val_accuracy: 0.8523\n",
      "Epoch 4/15\n",
      "76/76 [==============================] - 36s 464ms/step - loss: 0.3481 - accuracy: 0.8779 - val_loss: 0.2649 - val_accuracy: 0.9084\n",
      "Epoch 5/15\n",
      "76/76 [==============================] - 36s 476ms/step - loss: 0.3331 - accuracy: 0.8808 - val_loss: 0.2619 - val_accuracy: 0.9158\n",
      "Epoch 6/15\n",
      "76/76 [==============================] - 36s 469ms/step - loss: 0.3012 - accuracy: 0.8887 - val_loss: 0.2687 - val_accuracy: 0.9109\n",
      "Epoch 7/15\n",
      "76/76 [==============================] - 36s 472ms/step - loss: 0.3086 - accuracy: 0.8891 - val_loss: 0.3333 - val_accuracy: 0.9072\n",
      "Epoch 8/15\n",
      "76/76 [==============================] - 36s 470ms/step - loss: 0.3034 - accuracy: 0.8911 - val_loss: 0.2362 - val_accuracy: 0.9206\n",
      "Epoch 9/15\n",
      "76/76 [==============================] - 36s 473ms/step - loss: 0.2700 - accuracy: 0.8977 - val_loss: 0.2967 - val_accuracy: 0.9206\n",
      "Epoch 10/15\n",
      "76/76 [==============================] - 36s 464ms/step - loss: 0.2714 - accuracy: 0.8998 - val_loss: 0.2133 - val_accuracy: 0.9402\n",
      "Epoch 11/15\n",
      "76/76 [==============================] - 36s 467ms/step - loss: 0.2326 - accuracy: 0.9113 - val_loss: 0.1920 - val_accuracy: 0.9316\n",
      "Epoch 12/15\n",
      "76/76 [==============================] - 36s 469ms/step - loss: 0.2237 - accuracy: 0.9200 - val_loss: 0.2060 - val_accuracy: 0.9426\n",
      "Epoch 13/15\n",
      "76/76 [==============================] - 36s 465ms/step - loss: 0.2374 - accuracy: 0.9184 - val_loss: 0.1901 - val_accuracy: 0.9438\n",
      "Epoch 14/15\n",
      "76/76 [==============================] - 35s 463ms/step - loss: 0.2125 - accuracy: 0.9196 - val_loss: 0.2059 - val_accuracy: 0.9389\n",
      "Epoch 15/15\n",
      "76/76 [==============================] - 36s 467ms/step - loss: 0.2006 - accuracy: 0.9274 - val_loss: 0.2206 - val_accuracy: 0.9451\n",
      "------测试网络------\n",
      "26/26 [==============================] - 5s 110ms/step\n",
      "              precision    recall  f1-score   support\n",
      "\n",
      "      button       0.95      0.95      0.95       311\n",
      "    keyboard       0.99      0.98      0.98       132\n",
      "   searchbar       0.91      0.93      0.92       259\n",
      "      switch       0.96      0.91      0.93       117\n",
      "\n",
      "    accuracy                           0.95       819\n",
      "   macro avg       0.95      0.94      0.95       819\n",
      "weighted avg       0.95      0.95      0.95       819\n",
      "\n"
     ]
    }
   ],
   "source": [
    "# 设置初始化超参数\n",
    "\n",
    "# 学习率\n",
    "INIT_LR = 0.01\n",
    "# Epoch  \n",
    "# 这里设置 5 是为了能尽快训练完毕，可以设置高一点，比如 30\n",
    "EPOCHS = 15\n",
    "# Batch Size\n",
    "BS = 32\n",
    "\n",
    "# 损失函数，编译模型\n",
    "print(\"------开始训练网络------\")\n",
    "\n",
    "opt = SGD(learning_rate=INIT_LR, decay=INIT_LR / EPOCHS)\n",
    "model.compile(loss=\"categorical_crossentropy\", optimizer=opt,metrics=[\"accuracy\"])\n",
    "\n",
    "# 训练网络模型\n",
    "H = model.fit(\n",
    "    aug.flow(trainX, trainY, batch_size=BS),\n",
    "    validation_data=(testX, testY), \n",
    "    steps_per_epoch=len(trainX) // BS,\n",
    "    epochs=EPOCHS\n",
    ")\n",
    "\n",
    "\n",
    "# 测试\n",
    "print(\"------测试网络------\")\n",
    "predictions = model.predict(testX, batch_size=32)\n",
    "print(classification_report(testY.argmax(axis=1), predictions.argmax(axis=1), target_names=lb.classes_))\n",
    "\n"
   ]
  },
  {
   "cell_type": "code",
   "execution_count": 19,
   "id": "2a0a0562-c0dc-493c-8da7-42dc4e22ecae",
   "metadata": {
    "ExecutionIndicator": {
     "show": true
    },
    "execution": {
     "iopub.execute_input": "2023-11-25T19:45:53.475065Z",
     "iopub.status.busy": "2023-11-25T19:45:53.474464Z",
     "iopub.status.idle": "2023-11-25T19:45:55.489016Z",
     "shell.execute_reply": "2023-11-25T19:45:55.487930Z",
     "shell.execute_reply.started": "2023-11-25T19:45:53.475038Z"
    },
    "tags": []
   },
   "outputs": [
    {
     "name": "stdout",
     "output_type": "stream",
     "text": [
      "1/1 [==============================] - 0s 39ms/step\n",
      "[[9.99907494e-01 2.99720512e-07 7.88984107e-05 1.32312107e-05]\n",
      " [4.00320828e-01 2.87881447e-03 6.36478513e-02 5.33152461e-01]\n",
      " [1.57951110e-03 9.61345673e-01 1.08015221e-02 2.62732934e-02]\n",
      " [6.77199932e-05 9.99245882e-01 3.68306239e-04 3.18114646e-04]\n",
      " [9.16527767e-07 9.99969721e-01 1.71235638e-06 2.75898165e-05]\n",
      " [1.58734678e-04 1.92281841e-05 9.99473035e-01 3.49007372e-04]\n",
      " [8.80475389e-04 5.50313371e-06 9.99010921e-01 1.03113962e-04]\n",
      " [7.76313990e-02 1.32126315e-05 9.22142029e-01 2.13322637e-04]\n",
      " [1.13544804e-04 2.58623913e-04 1.48203305e-03 9.98145819e-01]\n",
      " [7.03648780e-04 1.65182038e-03 7.26117613e-03 9.90383327e-01]\n",
      " [2.41825387e-01 1.72689336e-03 4.23529372e-02 7.14094758e-01]\n",
      " [1.13858073e-03 8.09773155e-06 1.03594188e-03 9.97817397e-01]]\n",
      "[9.9990749e-01 2.9972051e-07 7.8898411e-05 1.3231211e-05]\n",
      "['../predict-project/test/button.png', 'button'] 的预测结果为： button\n",
      "[0.40032083 0.00287881 0.06364785 0.53315246]\n",
      "['../predict-project/test/button2.jpg', 'button'] 的预测结果为： switch\n",
      "[0.00157951 0.9613457  0.01080152 0.02627329]\n",
      "['../predict-project/test/keybord.jpg', 'keybord'] 的预测结果为： keyboard\n",
      "[6.7719993e-05 9.9924588e-01 3.6830624e-04 3.1811465e-04]\n",
      "['../predict-project/test/keybord2.jpeg', 'keybord'] 的预测结果为： keyboard\n",
      "[9.1652777e-07 9.9996972e-01 1.7123564e-06 2.7589816e-05]\n",
      "['../predict-project/test/keybord3.jpg', 'keybord'] 的预测结果为： keyboard\n",
      "[1.5873468e-04 1.9228184e-05 9.9947304e-01 3.4900737e-04]\n",
      "['../predict-project/test/searchbar.png', 'searchbar'] 的预测结果为： searchbar\n",
      "[8.8047539e-04 5.5031337e-06 9.9901092e-01 1.0311396e-04]\n",
      "['../predict-project/test/searchbar2.jpg', 'searchbar'] 的预测结果为： searchbar\n",
      "[7.76313990e-02 1.32126315e-05 9.22142029e-01 2.13322637e-04]\n",
      "['../predict-project/test/searchbar3.jpg', 'searchbar'] 的预测结果为： searchbar\n",
      "[1.13544804e-04 2.58623913e-04 1.48203305e-03 9.98145819e-01]\n",
      "['../predict-project/test/switch.jpg', 'switch'] 的预测结果为： switch\n",
      "[7.0364878e-04 1.6518204e-03 7.2611761e-03 9.9038333e-01]\n",
      "['../predict-project/test/switch2.jpg', 'switch'] 的预测结果为： switch\n",
      "[0.24182539 0.00172689 0.04235294 0.71409476]\n",
      "['../predict-project/test/switch3.jpg', 'switch'] 的预测结果为： switch\n",
      "[1.1385807e-03 8.0977316e-06 1.0359419e-03 9.9781740e-01]\n",
      "['../predict-project/test/switch4.jpg', 'switch'] 的预测结果为： switch\n",
      "------保存模型------\n"
     ]
    },
    {
     "name": "stderr",
     "output_type": "stream",
     "text": [
      "/opt/conda/lib/python3.8/site-packages/keras/src/engine/training.py:3000: UserWarning: You are saving your model as an HDF5 file via `model.save()`. This file format is considered legacy. We recommend using instead the native Keras format, e.g. `model.save('my_model.keras')`.\n",
      "  saving_api.save_model(\n"
     ]
    },
    {
     "data": {
      "image/png": "[encoded data removed]",
      "text/plain": [
       "<Figure size 640x480 with 1 Axes>"
      ]
     },
     "metadata": {},
     "output_type": "display_data"
    }
   ],
   "source": [
    "\n",
    "\n",
    "testPaths = [\n",
    "    [\"../predict-project/test/button.png\",\"button\"],\n",
    "    [\"../predict-project/test/button2.jpg\",\"button\"],\n",
    "    [\"../predict-project/test/keybord.jpg\",\"keybord\"],\n",
    "    [\"../predict-project/test/keybord2.jpeg\",\"keybord\"],\n",
    "    [\"../predict-project/test/keybord3.jpg\",\"keybord\"],\n",
    "    [\"../predict-project/test/searchbar.png\",\"searchbar\"],\n",
    "    [\"../predict-project/test/searchbar2.jpg\",\"searchbar\"],\n",
    "    [\"../predict-project/test/searchbar3.jpg\",\"searchbar\"],\n",
    "    [\"../predict-project/test/switch.jpg\",\"switch\"],\n",
    "    [\"../predict-project/test/switch2.jpg\",\"switch\"],\n",
    "    [\"../predict-project/test/switch3.jpg\",\"switch\"],\n",
    "    [\"../predict-project/test/switch4.jpg\",\"switch\"],\n",
    "    ]\n",
    "\n",
    "images = []\n",
    "for testPath in testPaths:\n",
    "    image = cv2.imread(testPath[0])\n",
    "    # image = cv2.cvtColor(image,cv2.CLOLR_BGR2RGB)\n",
    "    image = cv2.cvtColor(image, cv2.COLOR_BGR2RGB)\n",
    "    image = cv2.resize(image,(255,255))\n",
    "    images.append(image)\n",
    "\n",
    "images = np.asarray(images)\n",
    "images = np.array(images, dtype=\"float\") / 255.0\n",
    "pred = model.predict(images)\n",
    "\n",
    "print(pred)\n",
    "for i in range(len(testPaths)):\n",
    "    print(pred[i])\n",
    "    max_ = np.argmax(pred[i])\n",
    "    print(testPaths[i],'的预测结果为：',lb.classes_[max_])\n",
    "\n",
    "\n",
    "# 绘制结果曲线\n",
    "N = np.arange(0, EPOCHS)\n",
    "plt.style.use(\"ggplot\")\n",
    "plt.figure()\n",
    "plt.plot(N, H.history[\"loss\"], label=\"train_loss\")\n",
    "plt.plot(N, H.history[\"val_loss\"], label=\"val_loss\")\n",
    "plt.plot(N, H.history[\"accuracy\"], label=\"train_acc\")\n",
    "plt.plot(N, H.history[\"val_accuracy\"], label=\"val_acc\")\n",
    "plt.title(\"Training Loss and Accuracy\")\n",
    "plt.xlabel(\"Epoch #\")\n",
    "plt.ylabel(\"Loss/Accuracy\")\n",
    "plt.legend()\n",
    "plt.savefig('./cnn_plot.png')\n",
    "\n",
    "# 保存模型\n",
    "print(\"------保存模型------\")\n",
    "model.save('./cnn.model.resnet101.h5')\n",
    "f = open('./cnn_lb.pickle', \"wb\")\n",
    "f.write(pickle.dumps(lb))\n",
    "f.close()"
   ]
  }
 ],
 "metadata": {
  "kernelspec": {
   "display_name": "Python 3 (ipykernel)",
   "language": "python",
   "name": "python3"
  },
  "language_info": {
   "codemirror_mode": {
    "name": "ipython",
    "version": 3
   },
   "file_extension": ".py",
   "mimetype": "text/x-python",
   "name": "python",
   "nbconvert_exporter": "python",
   "pygments_lexer": "ipython3",
   "version": "3.8.16"
  }
 },
 "nbformat": 4,
 "nbformat_minor": 5
}
